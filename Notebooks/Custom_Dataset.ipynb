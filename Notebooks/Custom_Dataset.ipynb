{
  "nbformat": 4,
  "nbformat_minor": 0,
  "metadata": {
    "colab": {
      "provenance": []
    },
    "kernelspec": {
      "name": "python3",
      "display_name": "Python 3"
    },
    "language_info": {
      "name": "python"
    },
    "widgets": {
      "application/vnd.jupyter.widget-state+json": {
        "fd21c8e22cd14e63832d9facc32d92a4": {
          "model_module": "@jupyter-widgets/controls",
          "model_name": "HBoxModel",
          "model_module_version": "1.5.0",
          "state": {
            "_dom_classes": [],
            "_model_module": "@jupyter-widgets/controls",
            "_model_module_version": "1.5.0",
            "_model_name": "HBoxModel",
            "_view_count": null,
            "_view_module": "@jupyter-widgets/controls",
            "_view_module_version": "1.5.0",
            "_view_name": "HBoxView",
            "box_style": "",
            "children": [
              "IPY_MODEL_4ad0dbd319f94edcb1aa045aa2f84c6b",
              "IPY_MODEL_a53e260b57df44599f34199b2206447a",
              "IPY_MODEL_da1d6db766a4484f9283c6b0cf222a0b"
            ],
            "layout": "IPY_MODEL_95c0529cbe0d42408d0f4fa799d354cd"
          }
        },
        "4ad0dbd319f94edcb1aa045aa2f84c6b": {
          "model_module": "@jupyter-widgets/controls",
          "model_name": "HTMLModel",
          "model_module_version": "1.5.0",
          "state": {
            "_dom_classes": [],
            "_model_module": "@jupyter-widgets/controls",
            "_model_module_version": "1.5.0",
            "_model_name": "HTMLModel",
            "_view_count": null,
            "_view_module": "@jupyter-widgets/controls",
            "_view_module_version": "1.5.0",
            "_view_name": "HTMLView",
            "description": "",
            "description_tooltip": null,
            "layout": "IPY_MODEL_7560fc8b697a4e42a21d2f15dfaca65e",
            "placeholder": "​",
            "style": "IPY_MODEL_e75926714d0b43219e753cf554a9dcba",
            "value": "100%"
          }
        },
        "a53e260b57df44599f34199b2206447a": {
          "model_module": "@jupyter-widgets/controls",
          "model_name": "FloatProgressModel",
          "model_module_version": "1.5.0",
          "state": {
            "_dom_classes": [],
            "_model_module": "@jupyter-widgets/controls",
            "_model_module_version": "1.5.0",
            "_model_name": "FloatProgressModel",
            "_view_count": null,
            "_view_module": "@jupyter-widgets/controls",
            "_view_module_version": "1.5.0",
            "_view_name": "ProgressView",
            "bar_style": "success",
            "description": "",
            "description_tooltip": null,
            "layout": "IPY_MODEL_5a63f52351074f09ad6579910f712857",
            "max": 41,
            "min": 0,
            "orientation": "horizontal",
            "style": "IPY_MODEL_dd1affe9f3f043cebc9debfaef6ab4df",
            "value": 41
          }
        },
        "da1d6db766a4484f9283c6b0cf222a0b": {
          "model_module": "@jupyter-widgets/controls",
          "model_name": "HTMLModel",
          "model_module_version": "1.5.0",
          "state": {
            "_dom_classes": [],
            "_model_module": "@jupyter-widgets/controls",
            "_model_module_version": "1.5.0",
            "_model_name": "HTMLModel",
            "_view_count": null,
            "_view_module": "@jupyter-widgets/controls",
            "_view_module_version": "1.5.0",
            "_view_name": "HTMLView",
            "description": "",
            "description_tooltip": null,
            "layout": "IPY_MODEL_6ef7011628f042e0b48cd2fb1d14d76c",
            "placeholder": "​",
            "style": "IPY_MODEL_c5f7156d8b3441d0b5f34f7fc66d6a1f",
            "value": " 41/41 [00:00&lt;00:00, 51.56it/s]"
          }
        },
        "95c0529cbe0d42408d0f4fa799d354cd": {
          "model_module": "@jupyter-widgets/base",
          "model_name": "LayoutModel",
          "model_module_version": "1.2.0",
          "state": {
            "_model_module": "@jupyter-widgets/base",
            "_model_module_version": "1.2.0",
            "_model_name": "LayoutModel",
            "_view_count": null,
            "_view_module": "@jupyter-widgets/base",
            "_view_module_version": "1.2.0",
            "_view_name": "LayoutView",
            "align_content": null,
            "align_items": null,
            "align_self": null,
            "border": null,
            "bottom": null,
            "display": null,
            "flex": null,
            "flex_flow": null,
            "grid_area": null,
            "grid_auto_columns": null,
            "grid_auto_flow": null,
            "grid_auto_rows": null,
            "grid_column": null,
            "grid_gap": null,
            "grid_row": null,
            "grid_template_areas": null,
            "grid_template_columns": null,
            "grid_template_rows": null,
            "height": null,
            "justify_content": null,
            "justify_items": null,
            "left": null,
            "margin": null,
            "max_height": null,
            "max_width": null,
            "min_height": null,
            "min_width": null,
            "object_fit": null,
            "object_position": null,
            "order": null,
            "overflow": null,
            "overflow_x": null,
            "overflow_y": null,
            "padding": null,
            "right": null,
            "top": null,
            "visibility": null,
            "width": null
          }
        },
        "7560fc8b697a4e42a21d2f15dfaca65e": {
          "model_module": "@jupyter-widgets/base",
          "model_name": "LayoutModel",
          "model_module_version": "1.2.0",
          "state": {
            "_model_module": "@jupyter-widgets/base",
            "_model_module_version": "1.2.0",
            "_model_name": "LayoutModel",
            "_view_count": null,
            "_view_module": "@jupyter-widgets/base",
            "_view_module_version": "1.2.0",
            "_view_name": "LayoutView",
            "align_content": null,
            "align_items": null,
            "align_self": null,
            "border": null,
            "bottom": null,
            "display": null,
            "flex": null,
            "flex_flow": null,
            "grid_area": null,
            "grid_auto_columns": null,
            "grid_auto_flow": null,
            "grid_auto_rows": null,
            "grid_column": null,
            "grid_gap": null,
            "grid_row": null,
            "grid_template_areas": null,
            "grid_template_columns": null,
            "grid_template_rows": null,
            "height": null,
            "justify_content": null,
            "justify_items": null,
            "left": null,
            "margin": null,
            "max_height": null,
            "max_width": null,
            "min_height": null,
            "min_width": null,
            "object_fit": null,
            "object_position": null,
            "order": null,
            "overflow": null,
            "overflow_x": null,
            "overflow_y": null,
            "padding": null,
            "right": null,
            "top": null,
            "visibility": null,
            "width": null
          }
        },
        "e75926714d0b43219e753cf554a9dcba": {
          "model_module": "@jupyter-widgets/controls",
          "model_name": "DescriptionStyleModel",
          "model_module_version": "1.5.0",
          "state": {
            "_model_module": "@jupyter-widgets/controls",
            "_model_module_version": "1.5.0",
            "_model_name": "DescriptionStyleModel",
            "_view_count": null,
            "_view_module": "@jupyter-widgets/base",
            "_view_module_version": "1.2.0",
            "_view_name": "StyleView",
            "description_width": ""
          }
        },
        "5a63f52351074f09ad6579910f712857": {
          "model_module": "@jupyter-widgets/base",
          "model_name": "LayoutModel",
          "model_module_version": "1.2.0",
          "state": {
            "_model_module": "@jupyter-widgets/base",
            "_model_module_version": "1.2.0",
            "_model_name": "LayoutModel",
            "_view_count": null,
            "_view_module": "@jupyter-widgets/base",
            "_view_module_version": "1.2.0",
            "_view_name": "LayoutView",
            "align_content": null,
            "align_items": null,
            "align_self": null,
            "border": null,
            "bottom": null,
            "display": null,
            "flex": null,
            "flex_flow": null,
            "grid_area": null,
            "grid_auto_columns": null,
            "grid_auto_flow": null,
            "grid_auto_rows": null,
            "grid_column": null,
            "grid_gap": null,
            "grid_row": null,
            "grid_template_areas": null,
            "grid_template_columns": null,
            "grid_template_rows": null,
            "height": null,
            "justify_content": null,
            "justify_items": null,
            "left": null,
            "margin": null,
            "max_height": null,
            "max_width": null,
            "min_height": null,
            "min_width": null,
            "object_fit": null,
            "object_position": null,
            "order": null,
            "overflow": null,
            "overflow_x": null,
            "overflow_y": null,
            "padding": null,
            "right": null,
            "top": null,
            "visibility": null,
            "width": null
          }
        },
        "dd1affe9f3f043cebc9debfaef6ab4df": {
          "model_module": "@jupyter-widgets/controls",
          "model_name": "ProgressStyleModel",
          "model_module_version": "1.5.0",
          "state": {
            "_model_module": "@jupyter-widgets/controls",
            "_model_module_version": "1.5.0",
            "_model_name": "ProgressStyleModel",
            "_view_count": null,
            "_view_module": "@jupyter-widgets/base",
            "_view_module_version": "1.2.0",
            "_view_name": "StyleView",
            "bar_color": null,
            "description_width": ""
          }
        },
        "6ef7011628f042e0b48cd2fb1d14d76c": {
          "model_module": "@jupyter-widgets/base",
          "model_name": "LayoutModel",
          "model_module_version": "1.2.0",
          "state": {
            "_model_module": "@jupyter-widgets/base",
            "_model_module_version": "1.2.0",
            "_model_name": "LayoutModel",
            "_view_count": null,
            "_view_module": "@jupyter-widgets/base",
            "_view_module_version": "1.2.0",
            "_view_name": "LayoutView",
            "align_content": null,
            "align_items": null,
            "align_self": null,
            "border": null,
            "bottom": null,
            "display": null,
            "flex": null,
            "flex_flow": null,
            "grid_area": null,
            "grid_auto_columns": null,
            "grid_auto_flow": null,
            "grid_auto_rows": null,
            "grid_column": null,
            "grid_gap": null,
            "grid_row": null,
            "grid_template_areas": null,
            "grid_template_columns": null,
            "grid_template_rows": null,
            "height": null,
            "justify_content": null,
            "justify_items": null,
            "left": null,
            "margin": null,
            "max_height": null,
            "max_width": null,
            "min_height": null,
            "min_width": null,
            "object_fit": null,
            "object_position": null,
            "order": null,
            "overflow": null,
            "overflow_x": null,
            "overflow_y": null,
            "padding": null,
            "right": null,
            "top": null,
            "visibility": null,
            "width": null
          }
        },
        "c5f7156d8b3441d0b5f34f7fc66d6a1f": {
          "model_module": "@jupyter-widgets/controls",
          "model_name": "DescriptionStyleModel",
          "model_module_version": "1.5.0",
          "state": {
            "_model_module": "@jupyter-widgets/controls",
            "_model_module_version": "1.5.0",
            "_model_name": "DescriptionStyleModel",
            "_view_count": null,
            "_view_module": "@jupyter-widgets/base",
            "_view_module_version": "1.2.0",
            "_view_name": "StyleView",
            "description_width": ""
          }
        },
        "75c7923b7c544b9ebc9bc2a6bff6d02a": {
          "model_module": "@jupyter-widgets/controls",
          "model_name": "HBoxModel",
          "model_module_version": "1.5.0",
          "state": {
            "_dom_classes": [],
            "_model_module": "@jupyter-widgets/controls",
            "_model_module_version": "1.5.0",
            "_model_name": "HBoxModel",
            "_view_count": null,
            "_view_module": "@jupyter-widgets/controls",
            "_view_module_version": "1.5.0",
            "_view_name": "HBoxView",
            "box_style": "",
            "children": [
              "IPY_MODEL_e6d730d5c80d48ea8446d29771527ca8",
              "IPY_MODEL_3bd29b1a9fd549b8a7264b5d84716c72",
              "IPY_MODEL_23e03ac1d1d646ccb2f9d10f9154e23e"
            ],
            "layout": "IPY_MODEL_46425a56fa1b42f6b3380574d38c2051"
          }
        },
        "e6d730d5c80d48ea8446d29771527ca8": {
          "model_module": "@jupyter-widgets/controls",
          "model_name": "HTMLModel",
          "model_module_version": "1.5.0",
          "state": {
            "_dom_classes": [],
            "_model_module": "@jupyter-widgets/controls",
            "_model_module_version": "1.5.0",
            "_model_name": "HTMLModel",
            "_view_count": null,
            "_view_module": "@jupyter-widgets/controls",
            "_view_module_version": "1.5.0",
            "_view_name": "HTMLView",
            "description": "",
            "description_tooltip": null,
            "layout": "IPY_MODEL_f25bd8cba8494f96bd9fcd61eb11b1ec",
            "placeholder": "​",
            "style": "IPY_MODEL_a51827cfd8ed4486a8f8381b37459780",
            "value": "tokenizer_config.json: 100%"
          }
        },
        "3bd29b1a9fd549b8a7264b5d84716c72": {
          "model_module": "@jupyter-widgets/controls",
          "model_name": "FloatProgressModel",
          "model_module_version": "1.5.0",
          "state": {
            "_dom_classes": [],
            "_model_module": "@jupyter-widgets/controls",
            "_model_module_version": "1.5.0",
            "_model_name": "FloatProgressModel",
            "_view_count": null,
            "_view_module": "@jupyter-widgets/controls",
            "_view_module_version": "1.5.0",
            "_view_name": "ProgressView",
            "bar_style": "success",
            "description": "",
            "description_tooltip": null,
            "layout": "IPY_MODEL_cd52c141fd954d2d97d2d1b97f4edb82",
            "max": 48,
            "min": 0,
            "orientation": "horizontal",
            "style": "IPY_MODEL_50f857e3bae7401b9a9a27505e1b42b1",
            "value": 48
          }
        },
        "23e03ac1d1d646ccb2f9d10f9154e23e": {
          "model_module": "@jupyter-widgets/controls",
          "model_name": "HTMLModel",
          "model_module_version": "1.5.0",
          "state": {
            "_dom_classes": [],
            "_model_module": "@jupyter-widgets/controls",
            "_model_module_version": "1.5.0",
            "_model_name": "HTMLModel",
            "_view_count": null,
            "_view_module": "@jupyter-widgets/controls",
            "_view_module_version": "1.5.0",
            "_view_name": "HTMLView",
            "description": "",
            "description_tooltip": null,
            "layout": "IPY_MODEL_3fef7a90b155496b97833fea0467c329",
            "placeholder": "​",
            "style": "IPY_MODEL_49992b6b9180468eafd4d6a0f05aa1c7",
            "value": " 48.0/48.0 [00:00&lt;00:00, 2.65kB/s]"
          }
        },
        "46425a56fa1b42f6b3380574d38c2051": {
          "model_module": "@jupyter-widgets/base",
          "model_name": "LayoutModel",
          "model_module_version": "1.2.0",
          "state": {
            "_model_module": "@jupyter-widgets/base",
            "_model_module_version": "1.2.0",
            "_model_name": "LayoutModel",
            "_view_count": null,
            "_view_module": "@jupyter-widgets/base",
            "_view_module_version": "1.2.0",
            "_view_name": "LayoutView",
            "align_content": null,
            "align_items": null,
            "align_self": null,
            "border": null,
            "bottom": null,
            "display": null,
            "flex": null,
            "flex_flow": null,
            "grid_area": null,
            "grid_auto_columns": null,
            "grid_auto_flow": null,
            "grid_auto_rows": null,
            "grid_column": null,
            "grid_gap": null,
            "grid_row": null,
            "grid_template_areas": null,
            "grid_template_columns": null,
            "grid_template_rows": null,
            "height": null,
            "justify_content": null,
            "justify_items": null,
            "left": null,
            "margin": null,
            "max_height": null,
            "max_width": null,
            "min_height": null,
            "min_width": null,
            "object_fit": null,
            "object_position": null,
            "order": null,
            "overflow": null,
            "overflow_x": null,
            "overflow_y": null,
            "padding": null,
            "right": null,
            "top": null,
            "visibility": null,
            "width": null
          }
        },
        "f25bd8cba8494f96bd9fcd61eb11b1ec": {
          "model_module": "@jupyter-widgets/base",
          "model_name": "LayoutModel",
          "model_module_version": "1.2.0",
          "state": {
            "_model_module": "@jupyter-widgets/base",
            "_model_module_version": "1.2.0",
            "_model_name": "LayoutModel",
            "_view_count": null,
            "_view_module": "@jupyter-widgets/base",
            "_view_module_version": "1.2.0",
            "_view_name": "LayoutView",
            "align_content": null,
            "align_items": null,
            "align_self": null,
            "border": null,
            "bottom": null,
            "display": null,
            "flex": null,
            "flex_flow": null,
            "grid_area": null,
            "grid_auto_columns": null,
            "grid_auto_flow": null,
            "grid_auto_rows": null,
            "grid_column": null,
            "grid_gap": null,
            "grid_row": null,
            "grid_template_areas": null,
            "grid_template_columns": null,
            "grid_template_rows": null,
            "height": null,
            "justify_content": null,
            "justify_items": null,
            "left": null,
            "margin": null,
            "max_height": null,
            "max_width": null,
            "min_height": null,
            "min_width": null,
            "object_fit": null,
            "object_position": null,
            "order": null,
            "overflow": null,
            "overflow_x": null,
            "overflow_y": null,
            "padding": null,
            "right": null,
            "top": null,
            "visibility": null,
            "width": null
          }
        },
        "a51827cfd8ed4486a8f8381b37459780": {
          "model_module": "@jupyter-widgets/controls",
          "model_name": "DescriptionStyleModel",
          "model_module_version": "1.5.0",
          "state": {
            "_model_module": "@jupyter-widgets/controls",
            "_model_module_version": "1.5.0",
            "_model_name": "DescriptionStyleModel",
            "_view_count": null,
            "_view_module": "@jupyter-widgets/base",
            "_view_module_version": "1.2.0",
            "_view_name": "StyleView",
            "description_width": ""
          }
        },
        "cd52c141fd954d2d97d2d1b97f4edb82": {
          "model_module": "@jupyter-widgets/base",
          "model_name": "LayoutModel",
          "model_module_version": "1.2.0",
          "state": {
            "_model_module": "@jupyter-widgets/base",
            "_model_module_version": "1.2.0",
            "_model_name": "LayoutModel",
            "_view_count": null,
            "_view_module": "@jupyter-widgets/base",
            "_view_module_version": "1.2.0",
            "_view_name": "LayoutView",
            "align_content": null,
            "align_items": null,
            "align_self": null,
            "border": null,
            "bottom": null,
            "display": null,
            "flex": null,
            "flex_flow": null,
            "grid_area": null,
            "grid_auto_columns": null,
            "grid_auto_flow": null,
            "grid_auto_rows": null,
            "grid_column": null,
            "grid_gap": null,
            "grid_row": null,
            "grid_template_areas": null,
            "grid_template_columns": null,
            "grid_template_rows": null,
            "height": null,
            "justify_content": null,
            "justify_items": null,
            "left": null,
            "margin": null,
            "max_height": null,
            "max_width": null,
            "min_height": null,
            "min_width": null,
            "object_fit": null,
            "object_position": null,
            "order": null,
            "overflow": null,
            "overflow_x": null,
            "overflow_y": null,
            "padding": null,
            "right": null,
            "top": null,
            "visibility": null,
            "width": null
          }
        },
        "50f857e3bae7401b9a9a27505e1b42b1": {
          "model_module": "@jupyter-widgets/controls",
          "model_name": "ProgressStyleModel",
          "model_module_version": "1.5.0",
          "state": {
            "_model_module": "@jupyter-widgets/controls",
            "_model_module_version": "1.5.0",
            "_model_name": "ProgressStyleModel",
            "_view_count": null,
            "_view_module": "@jupyter-widgets/base",
            "_view_module_version": "1.2.0",
            "_view_name": "StyleView",
            "bar_color": null,
            "description_width": ""
          }
        },
        "3fef7a90b155496b97833fea0467c329": {
          "model_module": "@jupyter-widgets/base",
          "model_name": "LayoutModel",
          "model_module_version": "1.2.0",
          "state": {
            "_model_module": "@jupyter-widgets/base",
            "_model_module_version": "1.2.0",
            "_model_name": "LayoutModel",
            "_view_count": null,
            "_view_module": "@jupyter-widgets/base",
            "_view_module_version": "1.2.0",
            "_view_name": "LayoutView",
            "align_content": null,
            "align_items": null,
            "align_self": null,
            "border": null,
            "bottom": null,
            "display": null,
            "flex": null,
            "flex_flow": null,
            "grid_area": null,
            "grid_auto_columns": null,
            "grid_auto_flow": null,
            "grid_auto_rows": null,
            "grid_column": null,
            "grid_gap": null,
            "grid_row": null,
            "grid_template_areas": null,
            "grid_template_columns": null,
            "grid_template_rows": null,
            "height": null,
            "justify_content": null,
            "justify_items": null,
            "left": null,
            "margin": null,
            "max_height": null,
            "max_width": null,
            "min_height": null,
            "min_width": null,
            "object_fit": null,
            "object_position": null,
            "order": null,
            "overflow": null,
            "overflow_x": null,
            "overflow_y": null,
            "padding": null,
            "right": null,
            "top": null,
            "visibility": null,
            "width": null
          }
        },
        "49992b6b9180468eafd4d6a0f05aa1c7": {
          "model_module": "@jupyter-widgets/controls",
          "model_name": "DescriptionStyleModel",
          "model_module_version": "1.5.0",
          "state": {
            "_model_module": "@jupyter-widgets/controls",
            "_model_module_version": "1.5.0",
            "_model_name": "DescriptionStyleModel",
            "_view_count": null,
            "_view_module": "@jupyter-widgets/base",
            "_view_module_version": "1.2.0",
            "_view_name": "StyleView",
            "description_width": ""
          }
        },
        "aae4a6c7e0434ef99c9747bc966b1814": {
          "model_module": "@jupyter-widgets/controls",
          "model_name": "HBoxModel",
          "model_module_version": "1.5.0",
          "state": {
            "_dom_classes": [],
            "_model_module": "@jupyter-widgets/controls",
            "_model_module_version": "1.5.0",
            "_model_name": "HBoxModel",
            "_view_count": null,
            "_view_module": "@jupyter-widgets/controls",
            "_view_module_version": "1.5.0",
            "_view_name": "HBoxView",
            "box_style": "",
            "children": [
              "IPY_MODEL_4090fa09a39e4ad9a238d30ee26520a5",
              "IPY_MODEL_02bf5b8c763a44c9a1acf932999c2f81",
              "IPY_MODEL_9199720218784a3d9883d16d2589678e"
            ],
            "layout": "IPY_MODEL_472a1e7b7599496abbab28b8b956fa74"
          }
        },
        "4090fa09a39e4ad9a238d30ee26520a5": {
          "model_module": "@jupyter-widgets/controls",
          "model_name": "HTMLModel",
          "model_module_version": "1.5.0",
          "state": {
            "_dom_classes": [],
            "_model_module": "@jupyter-widgets/controls",
            "_model_module_version": "1.5.0",
            "_model_name": "HTMLModel",
            "_view_count": null,
            "_view_module": "@jupyter-widgets/controls",
            "_view_module_version": "1.5.0",
            "_view_name": "HTMLView",
            "description": "",
            "description_tooltip": null,
            "layout": "IPY_MODEL_c026e96512e24289a686f6a8816ebde0",
            "placeholder": "​",
            "style": "IPY_MODEL_3186ba1824a446418886cb10623805b3",
            "value": "config.json: 100%"
          }
        },
        "02bf5b8c763a44c9a1acf932999c2f81": {
          "model_module": "@jupyter-widgets/controls",
          "model_name": "FloatProgressModel",
          "model_module_version": "1.5.0",
          "state": {
            "_dom_classes": [],
            "_model_module": "@jupyter-widgets/controls",
            "_model_module_version": "1.5.0",
            "_model_name": "FloatProgressModel",
            "_view_count": null,
            "_view_module": "@jupyter-widgets/controls",
            "_view_module_version": "1.5.0",
            "_view_name": "ProgressView",
            "bar_style": "success",
            "description": "",
            "description_tooltip": null,
            "layout": "IPY_MODEL_5488d1a855604e9cb7d155171ce94266",
            "max": 570,
            "min": 0,
            "orientation": "horizontal",
            "style": "IPY_MODEL_14598fe96fd24edcb88b0797a4e9874f",
            "value": 570
          }
        },
        "9199720218784a3d9883d16d2589678e": {
          "model_module": "@jupyter-widgets/controls",
          "model_name": "HTMLModel",
          "model_module_version": "1.5.0",
          "state": {
            "_dom_classes": [],
            "_model_module": "@jupyter-widgets/controls",
            "_model_module_version": "1.5.0",
            "_model_name": "HTMLModel",
            "_view_count": null,
            "_view_module": "@jupyter-widgets/controls",
            "_view_module_version": "1.5.0",
            "_view_name": "HTMLView",
            "description": "",
            "description_tooltip": null,
            "layout": "IPY_MODEL_42bae56003944ac0a062893b79dbb5e6",
            "placeholder": "​",
            "style": "IPY_MODEL_5e7a064096f544e28e61256c1c0587be",
            "value": " 570/570 [00:00&lt;00:00, 30.0kB/s]"
          }
        },
        "472a1e7b7599496abbab28b8b956fa74": {
          "model_module": "@jupyter-widgets/base",
          "model_name": "LayoutModel",
          "model_module_version": "1.2.0",
          "state": {
            "_model_module": "@jupyter-widgets/base",
            "_model_module_version": "1.2.0",
            "_model_name": "LayoutModel",
            "_view_count": null,
            "_view_module": "@jupyter-widgets/base",
            "_view_module_version": "1.2.0",
            "_view_name": "LayoutView",
            "align_content": null,
            "align_items": null,
            "align_self": null,
            "border": null,
            "bottom": null,
            "display": null,
            "flex": null,
            "flex_flow": null,
            "grid_area": null,
            "grid_auto_columns": null,
            "grid_auto_flow": null,
            "grid_auto_rows": null,
            "grid_column": null,
            "grid_gap": null,
            "grid_row": null,
            "grid_template_areas": null,
            "grid_template_columns": null,
            "grid_template_rows": null,
            "height": null,
            "justify_content": null,
            "justify_items": null,
            "left": null,
            "margin": null,
            "max_height": null,
            "max_width": null,
            "min_height": null,
            "min_width": null,
            "object_fit": null,
            "object_position": null,
            "order": null,
            "overflow": null,
            "overflow_x": null,
            "overflow_y": null,
            "padding": null,
            "right": null,
            "top": null,
            "visibility": null,
            "width": null
          }
        },
        "c026e96512e24289a686f6a8816ebde0": {
          "model_module": "@jupyter-widgets/base",
          "model_name": "LayoutModel",
          "model_module_version": "1.2.0",
          "state": {
            "_model_module": "@jupyter-widgets/base",
            "_model_module_version": "1.2.0",
            "_model_name": "LayoutModel",
            "_view_count": null,
            "_view_module": "@jupyter-widgets/base",
            "_view_module_version": "1.2.0",
            "_view_name": "LayoutView",
            "align_content": null,
            "align_items": null,
            "align_self": null,
            "border": null,
            "bottom": null,
            "display": null,
            "flex": null,
            "flex_flow": null,
            "grid_area": null,
            "grid_auto_columns": null,
            "grid_auto_flow": null,
            "grid_auto_rows": null,
            "grid_column": null,
            "grid_gap": null,
            "grid_row": null,
            "grid_template_areas": null,
            "grid_template_columns": null,
            "grid_template_rows": null,
            "height": null,
            "justify_content": null,
            "justify_items": null,
            "left": null,
            "margin": null,
            "max_height": null,
            "max_width": null,
            "min_height": null,
            "min_width": null,
            "object_fit": null,
            "object_position": null,
            "order": null,
            "overflow": null,
            "overflow_x": null,
            "overflow_y": null,
            "padding": null,
            "right": null,
            "top": null,
            "visibility": null,
            "width": null
          }
        },
        "3186ba1824a446418886cb10623805b3": {
          "model_module": "@jupyter-widgets/controls",
          "model_name": "DescriptionStyleModel",
          "model_module_version": "1.5.0",
          "state": {
            "_model_module": "@jupyter-widgets/controls",
            "_model_module_version": "1.5.0",
            "_model_name": "DescriptionStyleModel",
            "_view_count": null,
            "_view_module": "@jupyter-widgets/base",
            "_view_module_version": "1.2.0",
            "_view_name": "StyleView",
            "description_width": ""
          }
        },
        "5488d1a855604e9cb7d155171ce94266": {
          "model_module": "@jupyter-widgets/base",
          "model_name": "LayoutModel",
          "model_module_version": "1.2.0",
          "state": {
            "_model_module": "@jupyter-widgets/base",
            "_model_module_version": "1.2.0",
            "_model_name": "LayoutModel",
            "_view_count": null,
            "_view_module": "@jupyter-widgets/base",
            "_view_module_version": "1.2.0",
            "_view_name": "LayoutView",
            "align_content": null,
            "align_items": null,
            "align_self": null,
            "border": null,
            "bottom": null,
            "display": null,
            "flex": null,
            "flex_flow": null,
            "grid_area": null,
            "grid_auto_columns": null,
            "grid_auto_flow": null,
            "grid_auto_rows": null,
            "grid_column": null,
            "grid_gap": null,
            "grid_row": null,
            "grid_template_areas": null,
            "grid_template_columns": null,
            "grid_template_rows": null,
            "height": null,
            "justify_content": null,
            "justify_items": null,
            "left": null,
            "margin": null,
            "max_height": null,
            "max_width": null,
            "min_height": null,
            "min_width": null,
            "object_fit": null,
            "object_position": null,
            "order": null,
            "overflow": null,
            "overflow_x": null,
            "overflow_y": null,
            "padding": null,
            "right": null,
            "top": null,
            "visibility": null,
            "width": null
          }
        },
        "14598fe96fd24edcb88b0797a4e9874f": {
          "model_module": "@jupyter-widgets/controls",
          "model_name": "ProgressStyleModel",
          "model_module_version": "1.5.0",
          "state": {
            "_model_module": "@jupyter-widgets/controls",
            "_model_module_version": "1.5.0",
            "_model_name": "ProgressStyleModel",
            "_view_count": null,
            "_view_module": "@jupyter-widgets/base",
            "_view_module_version": "1.2.0",
            "_view_name": "StyleView",
            "bar_color": null,
            "description_width": ""
          }
        },
        "42bae56003944ac0a062893b79dbb5e6": {
          "model_module": "@jupyter-widgets/base",
          "model_name": "LayoutModel",
          "model_module_version": "1.2.0",
          "state": {
            "_model_module": "@jupyter-widgets/base",
            "_model_module_version": "1.2.0",
            "_model_name": "LayoutModel",
            "_view_count": null,
            "_view_module": "@jupyter-widgets/base",
            "_view_module_version": "1.2.0",
            "_view_name": "LayoutView",
            "align_content": null,
            "align_items": null,
            "align_self": null,
            "border": null,
            "bottom": null,
            "display": null,
            "flex": null,
            "flex_flow": null,
            "grid_area": null,
            "grid_auto_columns": null,
            "grid_auto_flow": null,
            "grid_auto_rows": null,
            "grid_column": null,
            "grid_gap": null,
            "grid_row": null,
            "grid_template_areas": null,
            "grid_template_columns": null,
            "grid_template_rows": null,
            "height": null,
            "justify_content": null,
            "justify_items": null,
            "left": null,
            "margin": null,
            "max_height": null,
            "max_width": null,
            "min_height": null,
            "min_width": null,
            "object_fit": null,
            "object_position": null,
            "order": null,
            "overflow": null,
            "overflow_x": null,
            "overflow_y": null,
            "padding": null,
            "right": null,
            "top": null,
            "visibility": null,
            "width": null
          }
        },
        "5e7a064096f544e28e61256c1c0587be": {
          "model_module": "@jupyter-widgets/controls",
          "model_name": "DescriptionStyleModel",
          "model_module_version": "1.5.0",
          "state": {
            "_model_module": "@jupyter-widgets/controls",
            "_model_module_version": "1.5.0",
            "_model_name": "DescriptionStyleModel",
            "_view_count": null,
            "_view_module": "@jupyter-widgets/base",
            "_view_module_version": "1.2.0",
            "_view_name": "StyleView",
            "description_width": ""
          }
        },
        "0247401706f44d9cb73c6f75e516c4a0": {
          "model_module": "@jupyter-widgets/controls",
          "model_name": "HBoxModel",
          "model_module_version": "1.5.0",
          "state": {
            "_dom_classes": [],
            "_model_module": "@jupyter-widgets/controls",
            "_model_module_version": "1.5.0",
            "_model_name": "HBoxModel",
            "_view_count": null,
            "_view_module": "@jupyter-widgets/controls",
            "_view_module_version": "1.5.0",
            "_view_name": "HBoxView",
            "box_style": "",
            "children": [
              "IPY_MODEL_d6a9353eb252455897679f46ae0c9caa",
              "IPY_MODEL_01ef0f207e7a4540908915b6fac2e69b",
              "IPY_MODEL_fae39c878dc04cefab2ff5fc16836b9a"
            ],
            "layout": "IPY_MODEL_6375ca8c4c824862b8e8b30c16305bf5"
          }
        },
        "d6a9353eb252455897679f46ae0c9caa": {
          "model_module": "@jupyter-widgets/controls",
          "model_name": "HTMLModel",
          "model_module_version": "1.5.0",
          "state": {
            "_dom_classes": [],
            "_model_module": "@jupyter-widgets/controls",
            "_model_module_version": "1.5.0",
            "_model_name": "HTMLModel",
            "_view_count": null,
            "_view_module": "@jupyter-widgets/controls",
            "_view_module_version": "1.5.0",
            "_view_name": "HTMLView",
            "description": "",
            "description_tooltip": null,
            "layout": "IPY_MODEL_a48ae3185d214e94831ab31491f99846",
            "placeholder": "​",
            "style": "IPY_MODEL_46a520ee9bbb4f6aa35d9f13be5c3ec8",
            "value": "vocab.txt: 100%"
          }
        },
        "01ef0f207e7a4540908915b6fac2e69b": {
          "model_module": "@jupyter-widgets/controls",
          "model_name": "FloatProgressModel",
          "model_module_version": "1.5.0",
          "state": {
            "_dom_classes": [],
            "_model_module": "@jupyter-widgets/controls",
            "_model_module_version": "1.5.0",
            "_model_name": "FloatProgressModel",
            "_view_count": null,
            "_view_module": "@jupyter-widgets/controls",
            "_view_module_version": "1.5.0",
            "_view_name": "ProgressView",
            "bar_style": "success",
            "description": "",
            "description_tooltip": null,
            "layout": "IPY_MODEL_2b2606fe6f7f452e9dfb24243ecdb97f",
            "max": 231508,
            "min": 0,
            "orientation": "horizontal",
            "style": "IPY_MODEL_0a1a8488c8de4622aeaf3896f540a455",
            "value": 231508
          }
        },
        "fae39c878dc04cefab2ff5fc16836b9a": {
          "model_module": "@jupyter-widgets/controls",
          "model_name": "HTMLModel",
          "model_module_version": "1.5.0",
          "state": {
            "_dom_classes": [],
            "_model_module": "@jupyter-widgets/controls",
            "_model_module_version": "1.5.0",
            "_model_name": "HTMLModel",
            "_view_count": null,
            "_view_module": "@jupyter-widgets/controls",
            "_view_module_version": "1.5.0",
            "_view_name": "HTMLView",
            "description": "",
            "description_tooltip": null,
            "layout": "IPY_MODEL_6e514277134a462bae0d06531892b177",
            "placeholder": "​",
            "style": "IPY_MODEL_521687a996e74e35b5122450f4b350af",
            "value": " 232k/232k [00:00&lt;00:00, 6.22MB/s]"
          }
        },
        "6375ca8c4c824862b8e8b30c16305bf5": {
          "model_module": "@jupyter-widgets/base",
          "model_name": "LayoutModel",
          "model_module_version": "1.2.0",
          "state": {
            "_model_module": "@jupyter-widgets/base",
            "_model_module_version": "1.2.0",
            "_model_name": "LayoutModel",
            "_view_count": null,
            "_view_module": "@jupyter-widgets/base",
            "_view_module_version": "1.2.0",
            "_view_name": "LayoutView",
            "align_content": null,
            "align_items": null,
            "align_self": null,
            "border": null,
            "bottom": null,
            "display": null,
            "flex": null,
            "flex_flow": null,
            "grid_area": null,
            "grid_auto_columns": null,
            "grid_auto_flow": null,
            "grid_auto_rows": null,
            "grid_column": null,
            "grid_gap": null,
            "grid_row": null,
            "grid_template_areas": null,
            "grid_template_columns": null,
            "grid_template_rows": null,
            "height": null,
            "justify_content": null,
            "justify_items": null,
            "left": null,
            "margin": null,
            "max_height": null,
            "max_width": null,
            "min_height": null,
            "min_width": null,
            "object_fit": null,
            "object_position": null,
            "order": null,
            "overflow": null,
            "overflow_x": null,
            "overflow_y": null,
            "padding": null,
            "right": null,
            "top": null,
            "visibility": null,
            "width": null
          }
        },
        "a48ae3185d214e94831ab31491f99846": {
          "model_module": "@jupyter-widgets/base",
          "model_name": "LayoutModel",
          "model_module_version": "1.2.0",
          "state": {
            "_model_module": "@jupyter-widgets/base",
            "_model_module_version": "1.2.0",
            "_model_name": "LayoutModel",
            "_view_count": null,
            "_view_module": "@jupyter-widgets/base",
            "_view_module_version": "1.2.0",
            "_view_name": "LayoutView",
            "align_content": null,
            "align_items": null,
            "align_self": null,
            "border": null,
            "bottom": null,
            "display": null,
            "flex": null,
            "flex_flow": null,
            "grid_area": null,
            "grid_auto_columns": null,
            "grid_auto_flow": null,
            "grid_auto_rows": null,
            "grid_column": null,
            "grid_gap": null,
            "grid_row": null,
            "grid_template_areas": null,
            "grid_template_columns": null,
            "grid_template_rows": null,
            "height": null,
            "justify_content": null,
            "justify_items": null,
            "left": null,
            "margin": null,
            "max_height": null,
            "max_width": null,
            "min_height": null,
            "min_width": null,
            "object_fit": null,
            "object_position": null,
            "order": null,
            "overflow": null,
            "overflow_x": null,
            "overflow_y": null,
            "padding": null,
            "right": null,
            "top": null,
            "visibility": null,
            "width": null
          }
        },
        "46a520ee9bbb4f6aa35d9f13be5c3ec8": {
          "model_module": "@jupyter-widgets/controls",
          "model_name": "DescriptionStyleModel",
          "model_module_version": "1.5.0",
          "state": {
            "_model_module": "@jupyter-widgets/controls",
            "_model_module_version": "1.5.0",
            "_model_name": "DescriptionStyleModel",
            "_view_count": null,
            "_view_module": "@jupyter-widgets/base",
            "_view_module_version": "1.2.0",
            "_view_name": "StyleView",
            "description_width": ""
          }
        },
        "2b2606fe6f7f452e9dfb24243ecdb97f": {
          "model_module": "@jupyter-widgets/base",
          "model_name": "LayoutModel",
          "model_module_version": "1.2.0",
          "state": {
            "_model_module": "@jupyter-widgets/base",
            "_model_module_version": "1.2.0",
            "_model_name": "LayoutModel",
            "_view_count": null,
            "_view_module": "@jupyter-widgets/base",
            "_view_module_version": "1.2.0",
            "_view_name": "LayoutView",
            "align_content": null,
            "align_items": null,
            "align_self": null,
            "border": null,
            "bottom": null,
            "display": null,
            "flex": null,
            "flex_flow": null,
            "grid_area": null,
            "grid_auto_columns": null,
            "grid_auto_flow": null,
            "grid_auto_rows": null,
            "grid_column": null,
            "grid_gap": null,
            "grid_row": null,
            "grid_template_areas": null,
            "grid_template_columns": null,
            "grid_template_rows": null,
            "height": null,
            "justify_content": null,
            "justify_items": null,
            "left": null,
            "margin": null,
            "max_height": null,
            "max_width": null,
            "min_height": null,
            "min_width": null,
            "object_fit": null,
            "object_position": null,
            "order": null,
            "overflow": null,
            "overflow_x": null,
            "overflow_y": null,
            "padding": null,
            "right": null,
            "top": null,
            "visibility": null,
            "width": null
          }
        },
        "0a1a8488c8de4622aeaf3896f540a455": {
          "model_module": "@jupyter-widgets/controls",
          "model_name": "ProgressStyleModel",
          "model_module_version": "1.5.0",
          "state": {
            "_model_module": "@jupyter-widgets/controls",
            "_model_module_version": "1.5.0",
            "_model_name": "ProgressStyleModel",
            "_view_count": null,
            "_view_module": "@jupyter-widgets/base",
            "_view_module_version": "1.2.0",
            "_view_name": "StyleView",
            "bar_color": null,
            "description_width": ""
          }
        },
        "6e514277134a462bae0d06531892b177": {
          "model_module": "@jupyter-widgets/base",
          "model_name": "LayoutModel",
          "model_module_version": "1.2.0",
          "state": {
            "_model_module": "@jupyter-widgets/base",
            "_model_module_version": "1.2.0",
            "_model_name": "LayoutModel",
            "_view_count": null,
            "_view_module": "@jupyter-widgets/base",
            "_view_module_version": "1.2.0",
            "_view_name": "LayoutView",
            "align_content": null,
            "align_items": null,
            "align_self": null,
            "border": null,
            "bottom": null,
            "display": null,
            "flex": null,
            "flex_flow": null,
            "grid_area": null,
            "grid_auto_columns": null,
            "grid_auto_flow": null,
            "grid_auto_rows": null,
            "grid_column": null,
            "grid_gap": null,
            "grid_row": null,
            "grid_template_areas": null,
            "grid_template_columns": null,
            "grid_template_rows": null,
            "height": null,
            "justify_content": null,
            "justify_items": null,
            "left": null,
            "margin": null,
            "max_height": null,
            "max_width": null,
            "min_height": null,
            "min_width": null,
            "object_fit": null,
            "object_position": null,
            "order": null,
            "overflow": null,
            "overflow_x": null,
            "overflow_y": null,
            "padding": null,
            "right": null,
            "top": null,
            "visibility": null,
            "width": null
          }
        },
        "521687a996e74e35b5122450f4b350af": {
          "model_module": "@jupyter-widgets/controls",
          "model_name": "DescriptionStyleModel",
          "model_module_version": "1.5.0",
          "state": {
            "_model_module": "@jupyter-widgets/controls",
            "_model_module_version": "1.5.0",
            "_model_name": "DescriptionStyleModel",
            "_view_count": null,
            "_view_module": "@jupyter-widgets/base",
            "_view_module_version": "1.2.0",
            "_view_name": "StyleView",
            "description_width": ""
          }
        },
        "e75c636b8dee47d48ef2795658aeb943": {
          "model_module": "@jupyter-widgets/controls",
          "model_name": "HBoxModel",
          "model_module_version": "1.5.0",
          "state": {
            "_dom_classes": [],
            "_model_module": "@jupyter-widgets/controls",
            "_model_module_version": "1.5.0",
            "_model_name": "HBoxModel",
            "_view_count": null,
            "_view_module": "@jupyter-widgets/controls",
            "_view_module_version": "1.5.0",
            "_view_name": "HBoxView",
            "box_style": "",
            "children": [
              "IPY_MODEL_be19fbfe8d0446289e000000a9a6795d",
              "IPY_MODEL_ff8c409c3e7545eb95600935f5b4ad26",
              "IPY_MODEL_82cf786fe1564aef97a933acda57802b"
            ],
            "layout": "IPY_MODEL_c193f11952174d62a4e77c7c44be8ee0"
          }
        },
        "be19fbfe8d0446289e000000a9a6795d": {
          "model_module": "@jupyter-widgets/controls",
          "model_name": "HTMLModel",
          "model_module_version": "1.5.0",
          "state": {
            "_dom_classes": [],
            "_model_module": "@jupyter-widgets/controls",
            "_model_module_version": "1.5.0",
            "_model_name": "HTMLModel",
            "_view_count": null,
            "_view_module": "@jupyter-widgets/controls",
            "_view_module_version": "1.5.0",
            "_view_name": "HTMLView",
            "description": "",
            "description_tooltip": null,
            "layout": "IPY_MODEL_a341ec47687146dbbad7884ee1545e82",
            "placeholder": "​",
            "style": "IPY_MODEL_000d7d12db3c419cbfc6a8ec17917f35",
            "value": "tokenizer.json: 100%"
          }
        },
        "ff8c409c3e7545eb95600935f5b4ad26": {
          "model_module": "@jupyter-widgets/controls",
          "model_name": "FloatProgressModel",
          "model_module_version": "1.5.0",
          "state": {
            "_dom_classes": [],
            "_model_module": "@jupyter-widgets/controls",
            "_model_module_version": "1.5.0",
            "_model_name": "FloatProgressModel",
            "_view_count": null,
            "_view_module": "@jupyter-widgets/controls",
            "_view_module_version": "1.5.0",
            "_view_name": "ProgressView",
            "bar_style": "success",
            "description": "",
            "description_tooltip": null,
            "layout": "IPY_MODEL_395628324c77423989ffba1f27812896",
            "max": 466062,
            "min": 0,
            "orientation": "horizontal",
            "style": "IPY_MODEL_1e0f73bfa2734c57b02822a6df1bd9a2",
            "value": 466062
          }
        },
        "82cf786fe1564aef97a933acda57802b": {
          "model_module": "@jupyter-widgets/controls",
          "model_name": "HTMLModel",
          "model_module_version": "1.5.0",
          "state": {
            "_dom_classes": [],
            "_model_module": "@jupyter-widgets/controls",
            "_model_module_version": "1.5.0",
            "_model_name": "HTMLModel",
            "_view_count": null,
            "_view_module": "@jupyter-widgets/controls",
            "_view_module_version": "1.5.0",
            "_view_name": "HTMLView",
            "description": "",
            "description_tooltip": null,
            "layout": "IPY_MODEL_9576d7cdcd27453d9643b926b4f700e3",
            "placeholder": "​",
            "style": "IPY_MODEL_52523da1b6094cc18bfc611ae15e1811",
            "value": " 466k/466k [00:00&lt;00:00, 3.69MB/s]"
          }
        },
        "c193f11952174d62a4e77c7c44be8ee0": {
          "model_module": "@jupyter-widgets/base",
          "model_name": "LayoutModel",
          "model_module_version": "1.2.0",
          "state": {
            "_model_module": "@jupyter-widgets/base",
            "_model_module_version": "1.2.0",
            "_model_name": "LayoutModel",
            "_view_count": null,
            "_view_module": "@jupyter-widgets/base",
            "_view_module_version": "1.2.0",
            "_view_name": "LayoutView",
            "align_content": null,
            "align_items": null,
            "align_self": null,
            "border": null,
            "bottom": null,
            "display": null,
            "flex": null,
            "flex_flow": null,
            "grid_area": null,
            "grid_auto_columns": null,
            "grid_auto_flow": null,
            "grid_auto_rows": null,
            "grid_column": null,
            "grid_gap": null,
            "grid_row": null,
            "grid_template_areas": null,
            "grid_template_columns": null,
            "grid_template_rows": null,
            "height": null,
            "justify_content": null,
            "justify_items": null,
            "left": null,
            "margin": null,
            "max_height": null,
            "max_width": null,
            "min_height": null,
            "min_width": null,
            "object_fit": null,
            "object_position": null,
            "order": null,
            "overflow": null,
            "overflow_x": null,
            "overflow_y": null,
            "padding": null,
            "right": null,
            "top": null,
            "visibility": null,
            "width": null
          }
        },
        "a341ec47687146dbbad7884ee1545e82": {
          "model_module": "@jupyter-widgets/base",
          "model_name": "LayoutModel",
          "model_module_version": "1.2.0",
          "state": {
            "_model_module": "@jupyter-widgets/base",
            "_model_module_version": "1.2.0",
            "_model_name": "LayoutModel",
            "_view_count": null,
            "_view_module": "@jupyter-widgets/base",
            "_view_module_version": "1.2.0",
            "_view_name": "LayoutView",
            "align_content": null,
            "align_items": null,
            "align_self": null,
            "border": null,
            "bottom": null,
            "display": null,
            "flex": null,
            "flex_flow": null,
            "grid_area": null,
            "grid_auto_columns": null,
            "grid_auto_flow": null,
            "grid_auto_rows": null,
            "grid_column": null,
            "grid_gap": null,
            "grid_row": null,
            "grid_template_areas": null,
            "grid_template_columns": null,
            "grid_template_rows": null,
            "height": null,
            "justify_content": null,
            "justify_items": null,
            "left": null,
            "margin": null,
            "max_height": null,
            "max_width": null,
            "min_height": null,
            "min_width": null,
            "object_fit": null,
            "object_position": null,
            "order": null,
            "overflow": null,
            "overflow_x": null,
            "overflow_y": null,
            "padding": null,
            "right": null,
            "top": null,
            "visibility": null,
            "width": null
          }
        },
        "000d7d12db3c419cbfc6a8ec17917f35": {
          "model_module": "@jupyter-widgets/controls",
          "model_name": "DescriptionStyleModel",
          "model_module_version": "1.5.0",
          "state": {
            "_model_module": "@jupyter-widgets/controls",
            "_model_module_version": "1.5.0",
            "_model_name": "DescriptionStyleModel",
            "_view_count": null,
            "_view_module": "@jupyter-widgets/base",
            "_view_module_version": "1.2.0",
            "_view_name": "StyleView",
            "description_width": ""
          }
        },
        "395628324c77423989ffba1f27812896": {
          "model_module": "@jupyter-widgets/base",
          "model_name": "LayoutModel",
          "model_module_version": "1.2.0",
          "state": {
            "_model_module": "@jupyter-widgets/base",
            "_model_module_version": "1.2.0",
            "_model_name": "LayoutModel",
            "_view_count": null,
            "_view_module": "@jupyter-widgets/base",
            "_view_module_version": "1.2.0",
            "_view_name": "LayoutView",
            "align_content": null,
            "align_items": null,
            "align_self": null,
            "border": null,
            "bottom": null,
            "display": null,
            "flex": null,
            "flex_flow": null,
            "grid_area": null,
            "grid_auto_columns": null,
            "grid_auto_flow": null,
            "grid_auto_rows": null,
            "grid_column": null,
            "grid_gap": null,
            "grid_row": null,
            "grid_template_areas": null,
            "grid_template_columns": null,
            "grid_template_rows": null,
            "height": null,
            "justify_content": null,
            "justify_items": null,
            "left": null,
            "margin": null,
            "max_height": null,
            "max_width": null,
            "min_height": null,
            "min_width": null,
            "object_fit": null,
            "object_position": null,
            "order": null,
            "overflow": null,
            "overflow_x": null,
            "overflow_y": null,
            "padding": null,
            "right": null,
            "top": null,
            "visibility": null,
            "width": null
          }
        },
        "1e0f73bfa2734c57b02822a6df1bd9a2": {
          "model_module": "@jupyter-widgets/controls",
          "model_name": "ProgressStyleModel",
          "model_module_version": "1.5.0",
          "state": {
            "_model_module": "@jupyter-widgets/controls",
            "_model_module_version": "1.5.0",
            "_model_name": "ProgressStyleModel",
            "_view_count": null,
            "_view_module": "@jupyter-widgets/base",
            "_view_module_version": "1.2.0",
            "_view_name": "StyleView",
            "bar_color": null,
            "description_width": ""
          }
        },
        "9576d7cdcd27453d9643b926b4f700e3": {
          "model_module": "@jupyter-widgets/base",
          "model_name": "LayoutModel",
          "model_module_version": "1.2.0",
          "state": {
            "_model_module": "@jupyter-widgets/base",
            "_model_module_version": "1.2.0",
            "_model_name": "LayoutModel",
            "_view_count": null,
            "_view_module": "@jupyter-widgets/base",
            "_view_module_version": "1.2.0",
            "_view_name": "LayoutView",
            "align_content": null,
            "align_items": null,
            "align_self": null,
            "border": null,
            "bottom": null,
            "display": null,
            "flex": null,
            "flex_flow": null,
            "grid_area": null,
            "grid_auto_columns": null,
            "grid_auto_flow": null,
            "grid_auto_rows": null,
            "grid_column": null,
            "grid_gap": null,
            "grid_row": null,
            "grid_template_areas": null,
            "grid_template_columns": null,
            "grid_template_rows": null,
            "height": null,
            "justify_content": null,
            "justify_items": null,
            "left": null,
            "margin": null,
            "max_height": null,
            "max_width": null,
            "min_height": null,
            "min_width": null,
            "object_fit": null,
            "object_position": null,
            "order": null,
            "overflow": null,
            "overflow_x": null,
            "overflow_y": null,
            "padding": null,
            "right": null,
            "top": null,
            "visibility": null,
            "width": null
          }
        },
        "52523da1b6094cc18bfc611ae15e1811": {
          "model_module": "@jupyter-widgets/controls",
          "model_name": "DescriptionStyleModel",
          "model_module_version": "1.5.0",
          "state": {
            "_model_module": "@jupyter-widgets/controls",
            "_model_module_version": "1.5.0",
            "_model_name": "DescriptionStyleModel",
            "_view_count": null,
            "_view_module": "@jupyter-widgets/base",
            "_view_module_version": "1.2.0",
            "_view_name": "StyleView",
            "description_width": ""
          }
        }
      }
    }
  },
  "cells": [
    {
      "cell_type": "markdown",
      "source": [
        "#Set up for downloading kaggle dataset"
      ],
      "metadata": {
        "id": "BI0NdmBaTuQU"
      }
    },
    {
      "cell_type": "markdown",
      "source": [
        "[Checkout this article for downloading the dataset](https://https://www.kaggle.com/discussions/general/74235)"
      ],
      "metadata": {
        "id": "IhXmlJPQT3i2"
      }
    },
    {
      "cell_type": "markdown",
      "source": [
        "##Add your  Kaggle key and kaggle username in the secrets\n",
        "![image.png](data:image/png;base64,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)"
      ],
      "metadata": {
        "id": "y2hnRDBpUkaL"
      }
    },
    {
      "cell_type": "code",
      "source": [
        "from google.colab import userdata\n",
        "import os\n",
        "\n",
        "os.environ[\"KAGGLE_KEY\"] = userdata.get('KAGGLE_KEY')\n",
        "os.environ[\"KAGGLE_USERNAME\"] = userdata.get('KAGGLE_USERNAME')\n"
      ],
      "metadata": {
        "id": "RJfb8itFTCqG"
      },
      "execution_count": 1,
      "outputs": []
    },
    {
      "cell_type": "markdown",
      "source": [
        "#Downloading Dataset"
      ],
      "metadata": {
        "id": "WNI-Vmw2WCX2"
      }
    },
    {
      "cell_type": "code",
      "source": [
        "import zipfile"
      ],
      "metadata": {
        "id": "OiMg5bHFk0PB"
      },
      "execution_count": 2,
      "outputs": []
    },
    {
      "cell_type": "code",
      "source": [
        "!kaggle datasets download -d phucthaiv02/butterfly-image-classification\n",
        "!kaggle datasets download -d datatattle/covid-19-nlp-text-classification\n",
        "!kaggle datasets download -d warcoder/cats-vs-dogs-vs-birds-audio-classification"
      ],
      "metadata": {
        "colab": {
          "base_uri": "https://localhost:8080/"
        },
        "id": "Sw_mq7f4UFOg",
        "outputId": "6e211f76-a716-4696-cb25-fb9f246e162e"
      },
      "execution_count": 3,
      "outputs": [
        {
          "output_type": "stream",
          "name": "stdout",
          "text": [
            "Dataset URL: https://www.kaggle.com/datasets/phucthaiv02/butterfly-image-classification\n",
            "License(s): CC0-1.0\n",
            "Downloading butterfly-image-classification.zip to /content\n",
            " 97% 219M/226M [00:02<00:00, 72.0MB/s]\n",
            "100% 226M/226M [00:02<00:00, 83.2MB/s]\n",
            "Dataset URL: https://www.kaggle.com/datasets/datatattle/covid-19-nlp-text-classification\n",
            "License(s): copyright-authors\n",
            "Downloading covid-19-nlp-text-classification.zip to /content\n",
            "  0% 0.00/4.38M [00:00<?, ?B/s]\n",
            "100% 4.38M/4.38M [00:00<00:00, 73.3MB/s]\n",
            "Dataset URL: https://www.kaggle.com/datasets/warcoder/cats-vs-dogs-vs-birds-audio-classification\n",
            "License(s): Attribution 4.0 International (CC BY 4.0)\n",
            "Downloading cats-vs-dogs-vs-birds-audio-classification.zip to /content\n",
            " 76% 10.0M/13.2M [00:00<00:00, 49.1MB/s]\n",
            "100% 13.2M/13.2M [00:00<00:00, 52.8MB/s]\n"
          ]
        }
      ]
    },
    {
      "cell_type": "code",
      "source": [
        "zip_ref = zipfile.ZipFile('butterfly-image-classification.zip', 'r')\n",
        "os.makedirs(\"/content/Image_classification-butterfly_image_dataset\",exist_ok=True)\n",
        "zip_ref.extractall('/content/Image_classification-butterfly_image_dataset')\n",
        "zip_ref.close()"
      ],
      "metadata": {
        "id": "VMDqYvvFUO2m"
      },
      "execution_count": 4,
      "outputs": []
    },
    {
      "cell_type": "code",
      "source": [
        "zip_ref = zipfile.ZipFile('covid-19-nlp-text-classification.zip', 'r')\n",
        "os.makedirs(\"/content/Text_classification-Coronavirus_tweets_NLP\",exist_ok=True)\n",
        "zip_ref.extractall('/content/Text_classification-Coronavirus_tweets_NLP')\n",
        "zip_ref.close()"
      ],
      "metadata": {
        "id": "HcfRXOz_kaaN"
      },
      "execution_count": 5,
      "outputs": []
    },
    {
      "cell_type": "code",
      "source": [
        "zip_ref = zipfile.ZipFile('cats-vs-dogs-vs-birds-audio-classification.zip', 'r')\n",
        "os.makedirs(\"/content/Audio_classification-cats-vs-dogs-vs-birds\",exist_ok=True)\n",
        "zip_ref.extractall('/content/Audio_classification-cats-vs-dogs-vs-birds')\n",
        "zip_ref.close()"
      ],
      "metadata": {
        "id": "WFM_ulPZqSBD"
      },
      "execution_count": 6,
      "outputs": []
    },
    {
      "cell_type": "code",
      "source": [],
      "metadata": {
        "id": "VPDY4CFJgFMv"
      },
      "execution_count": null,
      "outputs": []
    },
    {
      "cell_type": "markdown",
      "source": [
        "#Custom Dataset classes"
      ],
      "metadata": {
        "id": "RVfm6wnnWMD4"
      }
    },
    {
      "cell_type": "markdown",
      "source": [
        "##1. For Image Classification"
      ],
      "metadata": {
        "id": "jXnx4mViWO8W"
      }
    },
    {
      "cell_type": "code",
      "source": [
        "import torch\n",
        "from torch.utils.data import Dataset\n",
        "from torchvision import transforms\n",
        "from torch.utils.data import DataLoader\n",
        "\n",
        "\n",
        "import numpy as np\n",
        "import os\n",
        "from PIL import Image\n",
        "import pandas as pd\n",
        "import matplotlib.pyplot as plt"
      ],
      "metadata": {
        "id": "xU_9NEjzWmPp"
      },
      "execution_count": 7,
      "outputs": []
    },
    {
      "cell_type": "code",
      "source": [
        "class ImageDataset(Dataset):\n",
        "    def __init__(self, data_dir, annotations_file, transforms=None):\n",
        "        \"\"\"\n",
        "        Dataset for Image Data.\n",
        "\n",
        "        Args:\n",
        "            data_dir (str): Directory containing the image files.\n",
        "            annotations_file (str): Path to the annotations file for supervised tasks.\n",
        "            transforms (callable, optional): Optional transformations to be applied on images.\n",
        "        \"\"\"\n",
        "        self.data_dir = data_dir\n",
        "        self.annotations_file = annotations_file\n",
        "        self.transforms = transforms\n",
        "\n",
        "        self.annotation_classes={}\n",
        "        self.annotations = pd.read_csv(annotations_file,)\n",
        "        # optional as we generally require the labels in the int datatype\n",
        "        self.annotation_classes={k:i for i,k in enumerate(self.annotations['label'].unique())}\n",
        "\n",
        "\n",
        "    def __len__(self):\n",
        "        return len(self.annotations)\n",
        "\n",
        "    def __getitem__(self, idx):\n",
        "\n",
        "        img_path=os.path.join(self.data_dir,self.annotations.iloc[idx]['filename'],)\n",
        "        img = Image.open(img_path)\n",
        "        if self.transforms:\n",
        "            img = self.transforms(img)\n",
        "\n",
        "        label_str=self.annotations.iloc[idx]['label']\n",
        "        label = self.annotation_classes[label_str]\n",
        "        return img, label\n",
        "\n",
        "    def convert_itoc(self,x):\n",
        "      # optional convert int values in classes\n",
        "      itoc={i:k for k,i in self.annotation_classes.items()}\n",
        "      x=x.int().numpy()\n",
        "      return itoc[x[0]] if len(x)==1 else [itoc[xi] for xi in x]"
      ],
      "metadata": {
        "id": "_PG6fasXUaM3"
      },
      "execution_count": 8,
      "outputs": []
    },
    {
      "cell_type": "code",
      "source": [
        "image_dataset = ImageDataset(\n",
        "        data_dir='/content/Image_classification-butterfly_image_dataset/train',\n",
        "        annotations_file='/content/Image_classification-butterfly_image_dataset/Training_set.csv',\n",
        "        transforms=transforms.Compose([\n",
        "            transforms.Resize((224, 224)),\n",
        "            transforms.ToTensor()\n",
        "        ])\n",
        "    )\n",
        "\n",
        "train_dataloader = DataLoader(image_dataset, batch_size=1, shuffle=True)"
      ],
      "metadata": {
        "id": "Et6DwO3IWxxh"
      },
      "execution_count": 9,
      "outputs": []
    },
    {
      "cell_type": "code",
      "source": [
        "train_features, train_labels = next(iter(train_dataloader))"
      ],
      "metadata": {
        "id": "nHqBrf_dddH9"
      },
      "execution_count": 10,
      "outputs": []
    },
    {
      "cell_type": "code",
      "source": [
        "npimg = train_features.squeeze(0).numpy()\n",
        "plt.imshow(np.transpose(npimg, (1, 2, 0)), interpolation='nearest',)\n",
        "plt.title(image_dataset.convert_itoc(train_labels))\n",
        "plt.axis(\"off\")"
      ],
      "metadata": {
        "colab": {
          "base_uri": "https://localhost:8080/",
          "height": 0
        },
        "id": "F9Js8Z_mZ_qN",
        "outputId": "f4ce3b7a-7730-463d-b161-75b22a2a4f2d"
      },
      "execution_count": 11,
      "outputs": [
        {
          "output_type": "execute_result",
          "data": {
            "text/plain": [
              "(-0.5, 223.5, 223.5, -0.5)"
            ]
          },
          "metadata": {},
          "execution_count": 11
        },
        {
          "output_type": "display_data",
          "data": {
            "text/plain": [
              "<Figure size 640x480 with 1 Axes>"
            ],
            "image/png": "[encoded data removed]"
          },
          "metadata": {}
        }
      ]
    },
    {
      "cell_type": "markdown",
      "source": [
        "##2. For Text Classification"
      ],
      "metadata": {
        "id": "eAAVY5GPlCdc"
      }
    },
    {
      "cell_type": "code",
      "source": [
        "import torch\n",
        "from torch.utils.data import Dataset, DataLoader\n",
        "from torch import nn, optim\n",
        "from sklearn.model_selection import train_test_split\n",
        "import spacy\n",
        "import pandas as pd\n",
        "from tqdm.notebook import tqdm\n"
      ],
      "metadata": {
        "id": "rRIBwUZNxnZJ"
      },
      "execution_count": 12,
      "outputs": []
    },
    {
      "cell_type": "code",
      "source": [
        "nlp = spacy.load(\"en_core_web_sm\")"
      ],
      "metadata": {
        "id": "yTn13VddZ30K"
      },
      "execution_count": 13,
      "outputs": []
    },
    {
      "cell_type": "code",
      "source": [
        "class TextDataset(Dataset):\n",
        "    def __init__(self, csv_file, max_length, text_col, label_col,encoding=\"utf-8\",n_records=1):\n",
        "      \"\"\"\n",
        "        Initializes the TextDataset instance.\n",
        "\n",
        "        Args:\n",
        "            csv_file (str): Path to the CSV file containing the dataset.\n",
        "            max_length (int): Maximum sequence length for tokenization.\n",
        "            text_col (str): Name of the column containing text data.\n",
        "            label_col (str): Name of the column containing labels.\n",
        "            encoding (str, optional): File encoding. Defaults to \"utf-8\".\n",
        "            n_records (float, optional): Fraction of the dataset to include. Defaults to 1.\n",
        "      \"\"\"\n",
        "      self.data = pd.read_csv(csv_file,encoding=encoding)\n",
        "      self.len=int(len(self.data)*n_records)\n",
        "      self.data=self.data.iloc[0:self.len]\n",
        "      self.label_encoder={k:i for i,k in enumerate(list(set(self.data[label_col])))}\n",
        "      self.data['new_labels']=[self.label_encoder[label] for label in self.data[label_col]]\n",
        "      self.max_length = max_length\n",
        "      self.text_col = text_col\n",
        "      self.label_col = label_col\n",
        "      self.vocab,self.vocab_decoder = self.build_vocab()\n",
        "\n",
        "    def __len__(self):\n",
        "      return len(self.data)\n",
        "\n",
        "    def __getitem__(self, idx):\n",
        "      text = self.data.iloc[idx][self.text_col]\n",
        "      label = self.data.iloc[idx]['new_labels']\n",
        "\n",
        "      # Tokenize the text using spaCy\n",
        "      tokens = [token.text for token in nlp(text)]\n",
        "\n",
        "      # Convert tokens to indices using the vocab\n",
        "      # we are sending the constant sequence of tokens in the NN\n",
        "      # so that we are either padding it if the sequnce is small or truncate if the sequence is large\n",
        "      token_indices = [self.vocab.get(token, self.vocab[\"<UNK>\"]) for token in tokens[:self.max_length]]\n",
        "      padding_length = self.max_length - len(token_indices)\n",
        "\n",
        "      # Pad or truncate to the required max length\n",
        "      token_indices += [self.vocab[\"<PAD>\"]] * padding_length\n",
        "\n",
        "      # Convert to tensors\n",
        "      input_ids = torch.tensor(token_indices, dtype=torch.long)\n",
        "\n",
        "      return input_ids, torch.tensor(label, dtype=torch.long)\n",
        "\n",
        "    def build_vocab(self,max_vocab_size=10000):\n",
        "\n",
        "      texts=self.data[self.text_col]\n",
        "\n",
        "      word_freq = {}\n",
        "      for text in tqdm(texts):\n",
        "          tokens = [token.text for token in nlp(text)]\n",
        "          for token in tokens:\n",
        "              word_freq[token] = word_freq.get(token, 0) + 1\n",
        "\n",
        "      # Sort by frequency and take the most common words\n",
        "      sorted_vocab = sorted(word_freq.items(), key=lambda x: x[1], reverse=True)[:max_vocab_size]\n",
        "\n",
        "      # Create vocab dict\n",
        "      vocab = {word: idx for idx, (word, _) in enumerate(sorted_vocab, start=2)}\n",
        "      vocab[\"<PAD>\"] = 0  # Padding token\n",
        "      vocab[\"<UNK>\"] = 1  # Unknown token\n",
        "      vocab_decoder={idx:word for word,idx in vocab.items()}\n",
        "      return vocab,vocab_decoder\n",
        "\n",
        "    def decode_labels(self,x):\n",
        "      label_decoder={i:k for k,i in self.label_encoder.items()}\n",
        "      return label_decoder[int(x[0])] if len(x)==1 else [label_decoder(int(xi)) for xi in x.squeeze(0)]\n",
        "\n",
        "    def decode_tokens(self,x):\n",
        "      print(x.squeeze(0).shape)\n",
        "      return [self.vocab_decoder[int(xi)] for xi in x.squeeze(0)]\n",
        "\n",
        "\n"
      ],
      "metadata": {
        "id": "YUIGDjPxlLci"
      },
      "execution_count": 14,
      "outputs": []
    },
    {
      "cell_type": "code",
      "source": [
        "dataset = TextDataset(\n",
        "    '/content/Text_classification-Coronavirus_tweets_NLP/Corona_NLP_train.csv',\n",
        "    50,\n",
        "    'OriginalTweet',\n",
        "    'Sentiment',\n",
        "    encoding='latin1',\n",
        "    n_records=0.001 # increase number of records\n",
        "    )"
      ],
      "metadata": {
        "colab": {
          "base_uri": "https://localhost:8080/",
          "height": 0,
          "referenced_widgets": [
            "fd21c8e22cd14e63832d9facc32d92a4",
            "4ad0dbd319f94edcb1aa045aa2f84c6b",
            "a53e260b57df44599f34199b2206447a",
            "da1d6db766a4484f9283c6b0cf222a0b",
            "95c0529cbe0d42408d0f4fa799d354cd",
            "7560fc8b697a4e42a21d2f15dfaca65e",
            "e75926714d0b43219e753cf554a9dcba",
            "5a63f52351074f09ad6579910f712857",
            "dd1affe9f3f043cebc9debfaef6ab4df",
            "6ef7011628f042e0b48cd2fb1d14d76c",
            "c5f7156d8b3441d0b5f34f7fc66d6a1f"
          ]
        },
        "id": "LFN2YTatlL5b",
        "outputId": "9f17f08e-6880-41b4-8451-f784eacdb996"
      },
      "execution_count": 15,
      "outputs": [
        {
          "output_type": "display_data",
          "data": {
            "text/plain": [
              "  0%|          | 0/41 [00:00<?, ?it/s]"
            ],
            "application/vnd.jupyter.widget-view+json": {
              "version_major": 2,
              "version_minor": 0,
              "model_id": "fd21c8e22cd14e63832d9facc32d92a4"
            }
          },
          "metadata": {}
        }
      ]
    },
    {
      "cell_type": "code",
      "source": [
        "train_loader = DataLoader(dataset, batch_size=1, shuffle=True)"
      ],
      "metadata": {
        "id": "p_Y743JYzR5V"
      },
      "execution_count": 16,
      "outputs": []
    },
    {
      "cell_type": "code",
      "source": [
        "input_ids, labels =  next(iter(train_loader))"
      ],
      "metadata": {
        "id": "NS5JENyoiXfq"
      },
      "execution_count": 17,
      "outputs": []
    },
    {
      "cell_type": "code",
      "source": [
        "dataset.decode_tokens(input_ids),dataset.decode_labels(labels)"
      ],
      "metadata": {
        "colab": {
          "base_uri": "https://localhost:8080/"
        },
        "id": "ucJ41qd1imPj",
        "outputId": "b3887309-f9ca-415b-fae4-34f0ab483e57"
      },
      "execution_count": 18,
      "outputs": [
        {
          "output_type": "stream",
          "name": "stdout",
          "text": [
            "torch.Size([50])\n"
          ]
        },
        {
          "output_type": "execute_result",
          "data": {
            "text/plain": [
              "(['Was',\n",
              "  'at',\n",
              "  'the',\n",
              "  'supermarket',\n",
              "  'today',\n",
              "  '.',\n",
              "  'Did',\n",
              "  \"n't\",\n",
              "  'buy',\n",
              "  'toilet',\n",
              "  'paper',\n",
              "  '.',\n",
              "  '#',\n",
              "  'Rebel',\n",
              "  '\\r\\r\\n\\r\\r\\n',\n",
              "  '#',\n",
              "  'toiletpapercrisis',\n",
              "  '#',\n",
              "  'covid_19',\n",
              "  'https://t.co/eVXkQLIdAZ',\n",
              "  '<PAD>',\n",
              "  '<PAD>',\n",
              "  '<PAD>',\n",
              "  '<PAD>',\n",
              "  '<PAD>',\n",
              "  '<PAD>',\n",
              "  '<PAD>',\n",
              "  '<PAD>',\n",
              "  '<PAD>',\n",
              "  '<PAD>',\n",
              "  '<PAD>',\n",
              "  '<PAD>',\n",
              "  '<PAD>',\n",
              "  '<PAD>',\n",
              "  '<PAD>',\n",
              "  '<PAD>',\n",
              "  '<PAD>',\n",
              "  '<PAD>',\n",
              "  '<PAD>',\n",
              "  '<PAD>',\n",
              "  '<PAD>',\n",
              "  '<PAD>',\n",
              "  '<PAD>',\n",
              "  '<PAD>',\n",
              "  '<PAD>',\n",
              "  '<PAD>',\n",
              "  '<PAD>',\n",
              "  '<PAD>',\n",
              "  '<PAD>',\n",
              "  '<PAD>'],\n",
              " 'Neutral')"
            ]
          },
          "metadata": {},
          "execution_count": 18
        }
      ]
    },
    {
      "cell_type": "markdown",
      "source": [
        "##3. Sound Classification"
      ],
      "metadata": {
        "id": "WFwZbT6-pXco"
      }
    },
    {
      "cell_type": "code",
      "source": [
        "import torch\n",
        "from torch.utils.data import Dataset\n",
        "from torchvision import transforms\n",
        "import os\n",
        "import pandas as pd\n",
        "import numpy as np\n",
        "from torchaudio import load as load_audio"
      ],
      "metadata": {
        "id": "sD2yLK8ApcvO"
      },
      "execution_count": 19,
      "outputs": []
    },
    {
      "cell_type": "code",
      "source": [
        "import librosa\n"
      ],
      "metadata": {
        "id": "nc2uneaDphJT"
      },
      "execution_count": 20,
      "outputs": []
    },
    {
      "cell_type": "code",
      "source": [
        "class SoundDataset(Dataset):\n",
        "    def __init__(self, data_dir, annotations_file=None, sample_rate=None, filepath_col=\"files\", label_col=\"labels\"):\n",
        "        \"\"\"\n",
        "        Dataset for Sound Data.\n",
        "\n",
        "        Args:\n",
        "            data_dir (str): Directory containing the audio files.\n",
        "            annotations_file (str, optional): Path to the annotations file for supervised tasks.\n",
        "            sample_rate (int, optional): Desired sample rate for audio data.\n",
        "            filepath_col (str, optional): Column name for file paths in the annotations file. Defaults to \"files\".\n",
        "            label_col (str, optional): Column name for labels in the annotations file. Defaults to \"labels\".\n",
        "        \"\"\"\n",
        "        # Initialize directory paths and configuration parameters\n",
        "        self.data_dir = data_dir\n",
        "        self.annotations_file = annotations_file\n",
        "        self.sample_rate = sample_rate\n",
        "        self.filepath_col = filepath_col\n",
        "        self.label_col = label_col\n",
        "\n",
        "        # Collect all audio file paths in the directory with valid extensions\n",
        "        self.file_paths = [os.path.join(data_dir, f) for f in os.listdir(data_dir) if f.endswith(('wav', 'mp3'))]\n",
        "\n",
        "        # Load annotations if provided, otherwise create a default annotations DataFrame\n",
        "        if annotations_file:\n",
        "            self.annotations = pd.read_csv(annotations_file)\n",
        "        else:\n",
        "            arr = []\n",
        "            labels=os.listdir(self.data_dir)\n",
        "            for label in labels:\n",
        "                files = os.listdir(os.path.join(self.data_dir, label))\n",
        "                for file in files:\n",
        "                    arr.append((file, label))\n",
        "            self.annotations = pd.DataFrame(arr, columns=[\"files\", \"labels\"])\n",
        "\n",
        "        # Encode labels into integers for model compatibility\n",
        "        self.label_encoder = {k: i for i, k in enumerate(list(set(self.annotations[label_col])))}\n",
        "\n",
        "    def __len__(self):\n",
        "        \"\"\"\n",
        "        Returns the total number of annotated samples in the dataset.\n",
        "\n",
        "        Returns:\n",
        "            int: Number of annotated samples.\n",
        "        \"\"\"\n",
        "        return len(self.annotations)\n",
        "\n",
        "    def __getitem__(self, idx):\n",
        "        \"\"\"\n",
        "        Retrieves a single audio sample and its corresponding label by index.\n",
        "\n",
        "        Args:\n",
        "            idx (int): Index of the sample to retrieve.\n",
        "\n",
        "        Returns:\n",
        "            tuple: A tuple containing the audio tensor and the encoded label.\n",
        "        \"\"\"\n",
        "        # Construct the full path to the audio file\n",
        "        audio_path = os.path.join(self.data_dir, self.annotations.iloc[idx][self.label_col], self.annotations.iloc[idx][self.filepath_col])\n",
        "\n",
        "        # Load the audio file and its sampling rate\n",
        "        audio, sr = load_audio(audio_path)\n",
        "\n",
        "        # Resample audio if a target sample rate is specified and differs from the original\n",
        "        if self.sample_rate and self.sample_rate != sr:\n",
        "            audio = librosa.resample(audio.numpy().squeeze(), sr, self.sample_rate)\n",
        "            audio = torch.tensor(audio)\n",
        "\n",
        "        # Retrieve and encode the label for the sample\n",
        "        label = self.annotations.iloc[idx][self.label_col]\n",
        "        return audio, self.label_encoder[label]\n",
        "\n",
        "    def decode_labels(self, x):\n",
        "        \"\"\"\n",
        "        Converts encoded labels back to their original string representations.\n",
        "\n",
        "        Args:\n",
        "            x (torch.Tensor): Tensor of encoded label(s).\n",
        "\n",
        "        Returns:\n",
        "            str or list: Decoded label(s) as a string or a list of strings.\n",
        "        \"\"\"\n",
        "        # Create a decoder mapping from integers to label strings\n",
        "        label_decoder = {i: k for k, i in self.label_encoder.items()}\n",
        "\n",
        "        # Decode a single label or a batch of labels\n",
        "        return label_decoder[int(x[0])] if len(x) == 1 else [label_decoder[int(xi)] for xi in x.squeeze(0)]\n"
      ],
      "metadata": {
        "id": "fuBXjAenjiQF"
      },
      "execution_count": 23,
      "outputs": []
    },
    {
      "cell_type": "code",
      "source": [
        "sound_dataset = SoundDataset(\n",
        "        data_dir='/content/Audio_classification-cats-vs-dogs-vs-birds/Animals',\n",
        "        sample_rate=16000\n",
        "    )"
      ],
      "metadata": {
        "id": "7QzIED0ApacW"
      },
      "execution_count": 24,
      "outputs": []
    },
    {
      "cell_type": "code",
      "source": [
        "train_loader = DataLoader(sound_dataset, batch_size=1, shuffle=True)"
      ],
      "metadata": {
        "id": "iAZfughWqwXm"
      },
      "execution_count": 25,
      "outputs": []
    },
    {
      "cell_type": "code",
      "source": [
        "a,l=next(iter(train_loader))"
      ],
      "metadata": {
        "id": "0uyRLrcLrpnH"
      },
      "execution_count": 26,
      "outputs": []
    },
    {
      "cell_type": "code",
      "source": [
        "a,sound_dataset.decode_labels(l)"
      ],
      "metadata": {
        "colab": {
          "base_uri": "https://localhost:8080/"
        },
        "id": "Z9MZ10Mfrpjy",
        "outputId": "8d2f93d3-8fdb-41ea-9044-fe88dd853858"
      },
      "execution_count": 27,
      "outputs": [
        {
          "output_type": "execute_result",
          "data": {
            "text/plain": [
              "(tensor([[[0.0020, 0.0021, 0.0022,  ..., 0.0030, 0.0029, 0.0028]]]), 'dog')"
            ]
          },
          "metadata": {},
          "execution_count": 27
        }
      ]
    },
    {
      "cell_type": "markdown",
      "source": [
        "## 4. For Text: Named Entity Recognition"
      ],
      "metadata": {
        "id": "R0NfLUDzzTC4"
      }
    },
    {
      "cell_type": "code",
      "source": [
        "import torch\n",
        "from torch.utils.data import Dataset\n",
        "from transformers import AutoTokenizer"
      ],
      "metadata": {
        "id": "NaG0IxAp01OQ"
      },
      "execution_count": 30,
      "outputs": []
    },
    {
      "cell_type": "code",
      "source": [
        "class TextDataset(Dataset):\n",
        "    def __init__(self, texts, annotations, tokenizer, max_length=512):\n",
        "        \"\"\"\n",
        "        Args:\n",
        "            texts (list of str): List of raw text samples.\n",
        "            annotations (list of dict): List of annotations for each text, e.g., {'entities': [(start, end, label)]}.\n",
        "            tokenizer: Tokenizer to convert text into tokens.\n",
        "            max_length (int): Maximum sequence length for padding/truncation.\n",
        "        \"\"\"\n",
        "        self.texts = texts\n",
        "        self.annotations = annotations\n",
        "        self.tokenizer = tokenizer\n",
        "        self.max_length = max_length\n",
        "\n",
        "    def __len__(self):\n",
        "        return len(self.texts)\n",
        "\n",
        "    def __getitem__(self, idx):\n",
        "        text = self.texts[idx]\n",
        "        annotation = self.annotations[idx]\n",
        "\n",
        "        # Tokenize the text\n",
        "        tokens = self.tokenizer(\n",
        "            text,\n",
        "            max_length=self.max_length,\n",
        "            truncation=True,\n",
        "            padding=\"max_length\",\n",
        "            return_offsets_mapping=True\n",
        "        )\n",
        "        input_ids = tokens['input_ids']\n",
        "        attention_mask = tokens['attention_mask']\n",
        "        offsets = tokens['offset_mapping']\n",
        "\n",
        "        # Create labels for tokens\n",
        "        labels = [0] * len(input_ids)  # Default label: 0 (non-entity)\n",
        "        for start, end, label in annotation['entities']:\n",
        "            for i, (token_start, token_end) in enumerate(offsets):\n",
        "                if token_start >= start and token_end <= end:\n",
        "                    labels[i] = label  # Assign entity label\n",
        "\n",
        "        return {\n",
        "            'input_ids': torch.tensor(input_ids, dtype=torch.long),\n",
        "            'attention_mask': torch.tensor(attention_mask, dtype=torch.long),\n",
        "            'labels': torch.tensor(labels, dtype=torch.long)\n",
        "        }"
      ],
      "metadata": {
        "id": "_EMTOPvqzrjj"
      },
      "execution_count": 31,
      "outputs": []
    },
    {
      "cell_type": "code",
      "source": [
        "\n",
        "# annotations is a list where each entry corresponds to a text sample.\n",
        "# Each entry has \"entities,\" a list of tuples (start, end, label), where:\n",
        "# - start: Start character index of the entity.\n",
        "# - end: End character index (exclusive).\n",
        "# - label: Numeric type of the entity (e.g., person, location, organization).\n",
        "\n",
        "# annotations = [\n",
        "#     {'entities': [(0, 4, 1), (14, 22, 2)]},  # \"John\" -> 1, \"New York\" -> 2\n",
        "#     {'entities': [(0, 5, 1), (14, 20, 3)]}   # \"Alice\" -> 1, \"Google\" -> 3\n",
        "# ]\n",
        "texts = [\"John lives in New York\", \"Alice works at Google\"]\n",
        "annotations = [\n",
        "    {'entities': [(0, 4, 1), (14, 22, 2)]},  # \"John\" -> 1, \"New York\" -> 2\n",
        "    {'entities': [(0, 5, 1), (14, 20, 3)]}   # \"Alice\" -> 1, \"Google\" -> 3\n",
        "]\n",
        "\n",
        "\n",
        "\n",
        "tokenizer = AutoTokenizer.from_pretrained(\"bert-base-uncased\")\n",
        "text_dataset = TextDataset(texts, annotations, tokenizer)\n",
        "sample = text_dataset[0]\n",
        "print(sample)\n"
      ],
      "metadata": {
        "colab": {
          "base_uri": "https://localhost:8080/",
          "height": 1000,
          "referenced_widgets": [
            "75c7923b7c544b9ebc9bc2a6bff6d02a",
            "e6d730d5c80d48ea8446d29771527ca8",
            "3bd29b1a9fd549b8a7264b5d84716c72",
            "23e03ac1d1d646ccb2f9d10f9154e23e",
            "46425a56fa1b42f6b3380574d38c2051",
            "f25bd8cba8494f96bd9fcd61eb11b1ec",
            "a51827cfd8ed4486a8f8381b37459780",
            "cd52c141fd954d2d97d2d1b97f4edb82",
            "50f857e3bae7401b9a9a27505e1b42b1",
            "3fef7a90b155496b97833fea0467c329",
            "49992b6b9180468eafd4d6a0f05aa1c7",
            "aae4a6c7e0434ef99c9747bc966b1814",
            "4090fa09a39e4ad9a238d30ee26520a5",
            "02bf5b8c763a44c9a1acf932999c2f81",
            "9199720218784a3d9883d16d2589678e",
            "472a1e7b7599496abbab28b8b956fa74",
            "c026e96512e24289a686f6a8816ebde0",
            "3186ba1824a446418886cb10623805b3",
            "5488d1a855604e9cb7d155171ce94266",
            "14598fe96fd24edcb88b0797a4e9874f",
            "42bae56003944ac0a062893b79dbb5e6",
            "5e7a064096f544e28e61256c1c0587be",
            "0247401706f44d9cb73c6f75e516c4a0",
            "d6a9353eb252455897679f46ae0c9caa",
            "01ef0f207e7a4540908915b6fac2e69b",
            "fae39c878dc04cefab2ff5fc16836b9a",
            "6375ca8c4c824862b8e8b30c16305bf5",
            "a48ae3185d214e94831ab31491f99846",
            "46a520ee9bbb4f6aa35d9f13be5c3ec8",
            "2b2606fe6f7f452e9dfb24243ecdb97f",
            "0a1a8488c8de4622aeaf3896f540a455",
            "6e514277134a462bae0d06531892b177",
            "521687a996e74e35b5122450f4b350af",
            "e75c636b8dee47d48ef2795658aeb943",
            "be19fbfe8d0446289e000000a9a6795d",
            "ff8c409c3e7545eb95600935f5b4ad26",
            "82cf786fe1564aef97a933acda57802b",
            "c193f11952174d62a4e77c7c44be8ee0",
            "a341ec47687146dbbad7884ee1545e82",
            "000d7d12db3c419cbfc6a8ec17917f35",
            "395628324c77423989ffba1f27812896",
            "1e0f73bfa2734c57b02822a6df1bd9a2",
            "9576d7cdcd27453d9643b926b4f700e3",
            "52523da1b6094cc18bfc611ae15e1811"
          ]
        },
        "id": "yZH1pm7sz-rD",
        "outputId": "8397fa9d-93d1-47fa-fae8-2728513e7c08"
      },
      "execution_count": 32,
      "outputs": [
        {
          "output_type": "display_data",
          "data": {
            "text/plain": [
              "tokenizer_config.json:   0%|          | 0.00/48.0 [00:00<?, ?B/s]"
            ],
            "application/vnd.jupyter.widget-view+json": {
              "version_major": 2,
              "version_minor": 0,
              "model_id": "75c7923b7c544b9ebc9bc2a6bff6d02a"
            }
          },
          "metadata": {}
        },
        {
          "output_type": "display_data",
          "data": {
            "text/plain": [
              "config.json:   0%|          | 0.00/570 [00:00<?, ?B/s]"
            ],
            "application/vnd.jupyter.widget-view+json": {
              "version_major": 2,
              "version_minor": 0,
              "model_id": "aae4a6c7e0434ef99c9747bc966b1814"
            }
          },
          "metadata": {}
        },
        {
          "output_type": "display_data",
          "data": {
            "text/plain": [
              "vocab.txt:   0%|          | 0.00/232k [00:00<?, ?B/s]"
            ],
            "application/vnd.jupyter.widget-view+json": {
              "version_major": 2,
              "version_minor": 0,
              "model_id": "0247401706f44d9cb73c6f75e516c4a0"
            }
          },
          "metadata": {}
        },
        {
          "output_type": "display_data",
          "data": {
            "text/plain": [
              "tokenizer.json:   0%|          | 0.00/466k [00:00<?, ?B/s]"
            ],
            "application/vnd.jupyter.widget-view+json": {
              "version_major": 2,
              "version_minor": 0,
              "model_id": "e75c636b8dee47d48ef2795658aeb943"
            }
          },
          "metadata": {}
        },
        {
          "output_type": "stream",
          "name": "stdout",
          "text": [
            "{'input_ids': tensor([ 101, 2198, 3268, 1999, 2047, 2259,  102,    0,    0,    0,    0,    0,\n",
            "           0,    0,    0,    0,    0,    0,    0,    0,    0,    0,    0,    0,\n",
            "           0,    0,    0,    0,    0,    0,    0,    0,    0,    0,    0,    0,\n",
            "           0,    0,    0,    0,    0,    0,    0,    0,    0,    0,    0,    0,\n",
            "           0,    0,    0,    0,    0,    0,    0,    0,    0,    0,    0,    0,\n",
            "           0,    0,    0,    0,    0,    0,    0,    0,    0,    0,    0,    0,\n",
            "           0,    0,    0,    0,    0,    0,    0,    0,    0,    0,    0,    0,\n",
            "           0,    0,    0,    0,    0,    0,    0,    0,    0,    0,    0,    0,\n",
            "           0,    0,    0,    0,    0,    0,    0,    0,    0,    0,    0,    0,\n",
            "           0,    0,    0,    0,    0,    0,    0,    0,    0,    0,    0,    0,\n",
            "           0,    0,    0,    0,    0,    0,    0,    0,    0,    0,    0,    0,\n",
            "           0,    0,    0,    0,    0,    0,    0,    0,    0,    0,    0,    0,\n",
            "           0,    0,    0,    0,    0,    0,    0,    0,    0,    0,    0,    0,\n",
            "           0,    0,    0,    0,    0,    0,    0,    0,    0,    0,    0,    0,\n",
            "           0,    0,    0,    0,    0,    0,    0,    0,    0,    0,    0,    0,\n",
            "           0,    0,    0,    0,    0,    0,    0,    0,    0,    0,    0,    0,\n",
            "           0,    0,    0,    0,    0,    0,    0,    0,    0,    0,    0,    0,\n",
            "           0,    0,    0,    0,    0,    0,    0,    0,    0,    0,    0,    0,\n",
            "           0,    0,    0,    0,    0,    0,    0,    0,    0,    0,    0,    0,\n",
            "           0,    0,    0,    0,    0,    0,    0,    0,    0,    0,    0,    0,\n",
            "           0,    0,    0,    0,    0,    0,    0,    0,    0,    0,    0,    0,\n",
            "           0,    0,    0,    0,    0,    0,    0,    0,    0,    0,    0,    0,\n",
            "           0,    0,    0,    0,    0,    0,    0,    0,    0,    0,    0,    0,\n",
            "           0,    0,    0,    0,    0,    0,    0,    0,    0,    0,    0,    0,\n",
            "           0,    0,    0,    0,    0,    0,    0,    0,    0,    0,    0,    0,\n",
            "           0,    0,    0,    0,    0,    0,    0,    0,    0,    0,    0,    0,\n",
            "           0,    0,    0,    0,    0,    0,    0,    0,    0,    0,    0,    0,\n",
            "           0,    0,    0,    0,    0,    0,    0,    0,    0,    0,    0,    0,\n",
            "           0,    0,    0,    0,    0,    0,    0,    0,    0,    0,    0,    0,\n",
            "           0,    0,    0,    0,    0,    0,    0,    0,    0,    0,    0,    0,\n",
            "           0,    0,    0,    0,    0,    0,    0,    0,    0,    0,    0,    0,\n",
            "           0,    0,    0,    0,    0,    0,    0,    0,    0,    0,    0,    0,\n",
            "           0,    0,    0,    0,    0,    0,    0,    0,    0,    0,    0,    0,\n",
            "           0,    0,    0,    0,    0,    0,    0,    0,    0,    0,    0,    0,\n",
            "           0,    0,    0,    0,    0,    0,    0,    0,    0,    0,    0,    0,\n",
            "           0,    0,    0,    0,    0,    0,    0,    0,    0,    0,    0,    0,\n",
            "           0,    0,    0,    0,    0,    0,    0,    0,    0,    0,    0,    0,\n",
            "           0,    0,    0,    0,    0,    0,    0,    0,    0,    0,    0,    0,\n",
            "           0,    0,    0,    0,    0,    0,    0,    0,    0,    0,    0,    0,\n",
            "           0,    0,    0,    0,    0,    0,    0,    0,    0,    0,    0,    0,\n",
            "           0,    0,    0,    0,    0,    0,    0,    0,    0,    0,    0,    0,\n",
            "           0,    0,    0,    0,    0,    0,    0,    0,    0,    0,    0,    0,\n",
            "           0,    0,    0,    0,    0,    0,    0,    0]), 'attention_mask': tensor([1, 1, 1, 1, 1, 1, 1, 0, 0, 0, 0, 0, 0, 0, 0, 0, 0, 0, 0, 0, 0, 0, 0, 0,\n",
            "        0, 0, 0, 0, 0, 0, 0, 0, 0, 0, 0, 0, 0, 0, 0, 0, 0, 0, 0, 0, 0, 0, 0, 0,\n",
            "        0, 0, 0, 0, 0, 0, 0, 0, 0, 0, 0, 0, 0, 0, 0, 0, 0, 0, 0, 0, 0, 0, 0, 0,\n",
            "        0, 0, 0, 0, 0, 0, 0, 0, 0, 0, 0, 0, 0, 0, 0, 0, 0, 0, 0, 0, 0, 0, 0, 0,\n",
            "        0, 0, 0, 0, 0, 0, 0, 0, 0, 0, 0, 0, 0, 0, 0, 0, 0, 0, 0, 0, 0, 0, 0, 0,\n",
            "        0, 0, 0, 0, 0, 0, 0, 0, 0, 0, 0, 0, 0, 0, 0, 0, 0, 0, 0, 0, 0, 0, 0, 0,\n",
            "        0, 0, 0, 0, 0, 0, 0, 0, 0, 0, 0, 0, 0, 0, 0, 0, 0, 0, 0, 0, 0, 0, 0, 0,\n",
            "        0, 0, 0, 0, 0, 0, 0, 0, 0, 0, 0, 0, 0, 0, 0, 0, 0, 0, 0, 0, 0, 0, 0, 0,\n",
            "        0, 0, 0, 0, 0, 0, 0, 0, 0, 0, 0, 0, 0, 0, 0, 0, 0, 0, 0, 0, 0, 0, 0, 0,\n",
            "        0, 0, 0, 0, 0, 0, 0, 0, 0, 0, 0, 0, 0, 0, 0, 0, 0, 0, 0, 0, 0, 0, 0, 0,\n",
            "        0, 0, 0, 0, 0, 0, 0, 0, 0, 0, 0, 0, 0, 0, 0, 0, 0, 0, 0, 0, 0, 0, 0, 0,\n",
            "        0, 0, 0, 0, 0, 0, 0, 0, 0, 0, 0, 0, 0, 0, 0, 0, 0, 0, 0, 0, 0, 0, 0, 0,\n",
            "        0, 0, 0, 0, 0, 0, 0, 0, 0, 0, 0, 0, 0, 0, 0, 0, 0, 0, 0, 0, 0, 0, 0, 0,\n",
            "        0, 0, 0, 0, 0, 0, 0, 0, 0, 0, 0, 0, 0, 0, 0, 0, 0, 0, 0, 0, 0, 0, 0, 0,\n",
            "        0, 0, 0, 0, 0, 0, 0, 0, 0, 0, 0, 0, 0, 0, 0, 0, 0, 0, 0, 0, 0, 0, 0, 0,\n",
            "        0, 0, 0, 0, 0, 0, 0, 0, 0, 0, 0, 0, 0, 0, 0, 0, 0, 0, 0, 0, 0, 0, 0, 0,\n",
            "        0, 0, 0, 0, 0, 0, 0, 0, 0, 0, 0, 0, 0, 0, 0, 0, 0, 0, 0, 0, 0, 0, 0, 0,\n",
            "        0, 0, 0, 0, 0, 0, 0, 0, 0, 0, 0, 0, 0, 0, 0, 0, 0, 0, 0, 0, 0, 0, 0, 0,\n",
            "        0, 0, 0, 0, 0, 0, 0, 0, 0, 0, 0, 0, 0, 0, 0, 0, 0, 0, 0, 0, 0, 0, 0, 0,\n",
            "        0, 0, 0, 0, 0, 0, 0, 0, 0, 0, 0, 0, 0, 0, 0, 0, 0, 0, 0, 0, 0, 0, 0, 0,\n",
            "        0, 0, 0, 0, 0, 0, 0, 0, 0, 0, 0, 0, 0, 0, 0, 0, 0, 0, 0, 0, 0, 0, 0, 0,\n",
            "        0, 0, 0, 0, 0, 0, 0, 0]), 'labels': tensor([1, 1, 0, 0, 2, 2, 1, 1, 1, 1, 1, 1, 1, 1, 1, 1, 1, 1, 1, 1, 1, 1, 1, 1,\n",
            "        1, 1, 1, 1, 1, 1, 1, 1, 1, 1, 1, 1, 1, 1, 1, 1, 1, 1, 1, 1, 1, 1, 1, 1,\n",
            "        1, 1, 1, 1, 1, 1, 1, 1, 1, 1, 1, 1, 1, 1, 1, 1, 1, 1, 1, 1, 1, 1, 1, 1,\n",
            "        1, 1, 1, 1, 1, 1, 1, 1, 1, 1, 1, 1, 1, 1, 1, 1, 1, 1, 1, 1, 1, 1, 1, 1,\n",
            "        1, 1, 1, 1, 1, 1, 1, 1, 1, 1, 1, 1, 1, 1, 1, 1, 1, 1, 1, 1, 1, 1, 1, 1,\n",
            "        1, 1, 1, 1, 1, 1, 1, 1, 1, 1, 1, 1, 1, 1, 1, 1, 1, 1, 1, 1, 1, 1, 1, 1,\n",
            "        1, 1, 1, 1, 1, 1, 1, 1, 1, 1, 1, 1, 1, 1, 1, 1, 1, 1, 1, 1, 1, 1, 1, 1,\n",
            "        1, 1, 1, 1, 1, 1, 1, 1, 1, 1, 1, 1, 1, 1, 1, 1, 1, 1, 1, 1, 1, 1, 1, 1,\n",
            "        1, 1, 1, 1, 1, 1, 1, 1, 1, 1, 1, 1, 1, 1, 1, 1, 1, 1, 1, 1, 1, 1, 1, 1,\n",
            "        1, 1, 1, 1, 1, 1, 1, 1, 1, 1, 1, 1, 1, 1, 1, 1, 1, 1, 1, 1, 1, 1, 1, 1,\n",
            "        1, 1, 1, 1, 1, 1, 1, 1, 1, 1, 1, 1, 1, 1, 1, 1, 1, 1, 1, 1, 1, 1, 1, 1,\n",
            "        1, 1, 1, 1, 1, 1, 1, 1, 1, 1, 1, 1, 1, 1, 1, 1, 1, 1, 1, 1, 1, 1, 1, 1,\n",
            "        1, 1, 1, 1, 1, 1, 1, 1, 1, 1, 1, 1, 1, 1, 1, 1, 1, 1, 1, 1, 1, 1, 1, 1,\n",
            "        1, 1, 1, 1, 1, 1, 1, 1, 1, 1, 1, 1, 1, 1, 1, 1, 1, 1, 1, 1, 1, 1, 1, 1,\n",
            "        1, 1, 1, 1, 1, 1, 1, 1, 1, 1, 1, 1, 1, 1, 1, 1, 1, 1, 1, 1, 1, 1, 1, 1,\n",
            "        1, 1, 1, 1, 1, 1, 1, 1, 1, 1, 1, 1, 1, 1, 1, 1, 1, 1, 1, 1, 1, 1, 1, 1,\n",
            "        1, 1, 1, 1, 1, 1, 1, 1, 1, 1, 1, 1, 1, 1, 1, 1, 1, 1, 1, 1, 1, 1, 1, 1,\n",
            "        1, 1, 1, 1, 1, 1, 1, 1, 1, 1, 1, 1, 1, 1, 1, 1, 1, 1, 1, 1, 1, 1, 1, 1,\n",
            "        1, 1, 1, 1, 1, 1, 1, 1, 1, 1, 1, 1, 1, 1, 1, 1, 1, 1, 1, 1, 1, 1, 1, 1,\n",
            "        1, 1, 1, 1, 1, 1, 1, 1, 1, 1, 1, 1, 1, 1, 1, 1, 1, 1, 1, 1, 1, 1, 1, 1,\n",
            "        1, 1, 1, 1, 1, 1, 1, 1, 1, 1, 1, 1, 1, 1, 1, 1, 1, 1, 1, 1, 1, 1, 1, 1,\n",
            "        1, 1, 1, 1, 1, 1, 1, 1])}\n"
          ]
        }
      ]
    }
  ]
}